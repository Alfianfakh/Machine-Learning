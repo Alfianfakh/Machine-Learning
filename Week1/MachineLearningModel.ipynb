{
  "nbformat": 4,
  "nbformat_minor": 0,
  "metadata": {
    "colab": {
      "name": "MachineLearningModel.ipynb",
      "provenance": [],
      "authorship_tag": "ABX9TyPhmUxEHSHSBZaPjYzxXpx0",
      "include_colab_link": true
    },
    "kernelspec": {
      "name": "python3",
      "display_name": "Python 3"
    },
    "language_info": {
      "name": "python"
    }
  },
  "cells": [
    {
      "cell_type": "markdown",
      "metadata": {
        "id": "view-in-github",
        "colab_type": "text"
      },
      "source": [
        "<a href=\"https://colab.research.google.com/github/Alfianfakh/Machine-Learning/blob/main/Week1/MachineLearningModel.ipynb\" target=\"_parent\"><img src=\"https://colab.research.google.com/assets/colab-badge.svg\" alt=\"Open In Colab\"/></a>"
      ]
    },
    {
      "cell_type": "markdown",
      "source": [
        "Name:Alfian Fakhrezi;\n",
        "\n",
        "Campus:Telkom University;\n",
        "\n",
        "Faculty: Electronic Engineering Faculty;\n",
        "\n",
        "Departement: Computer Engineering;\n",
        "\n",
        "\n",
        "Cr: https://www.kaggle.com/dansbecker/basic-data-exploration/tutorial"
      ],
      "metadata": {
        "id": "zBxIsiMRFmgY"
      }
    },
    {
      "cell_type": "markdown",
      "source": [
        "**Selecting Data For Modeling**\n",
        "\n",
        "We'll start by picking a few variables using our intuition. Later courses will show you statistical techniques to automatically prioritize variables.\n",
        "\n",
        "To choose variables/columns, we'll need to see a list of all columns in the dataset. That is done with the columns property of the DataFrame (the bottom line of code below)."
      ],
      "metadata": {
        "id": "fH4gGK3lFvIw"
      }
    },
    {
      "cell_type": "code",
      "source": [
        "import pandas as pd \n",
        "\n",
        "#connect to Google Drive\n",
        "from google.colab import drive\n",
        "drive.mount('/content/drive')\n",
        "\n",
        "# save filepath to variable for easier access\n",
        "melbourne_file_path = '../content/drive/My Drive/Machine Learning/Data Set/melb_data.csv'\n",
        "# read the data and store data in DataFrame titled melbourne_data\n",
        "melbourne_data = pd.read_csv(melbourne_file_path) \n",
        "melbourne_data.columns"
      ],
      "metadata": {
        "colab": {
          "base_uri": "https://localhost:8080/"
        },
        "id": "lpr4CtLIFsKg",
        "outputId": "8f9417ac-3f4f-4692-b020-d75a78f9790b"
      },
      "execution_count": 14,
      "outputs": [
        {
          "output_type": "stream",
          "name": "stdout",
          "text": [
            "Drive already mounted at /content/drive; to attempt to forcibly remount, call drive.mount(\"/content/drive\", force_remount=True).\n"
          ]
        },
        {
          "output_type": "execute_result",
          "data": {
            "text/plain": [
              "Index(['Suburb', 'Address', 'Rooms', 'Type', 'Price', 'Method', 'SellerG',\n",
              "       'Date', 'Distance', 'Postcode', 'Bedroom2', 'Bathroom', 'Car',\n",
              "       'Landsize', 'BuildingArea', 'YearBuilt', 'CouncilArea', 'Lattitude',\n",
              "       'Longtitude', 'Regionname', 'Propertycount'],\n",
              "      dtype='object')"
            ]
          },
          "metadata": {},
          "execution_count": 14
        }
      ]
    },
    {
      "cell_type": "code",
      "source": [
        "# The Melbourne data has some missing values (some houses for which some variables weren't recorded.)\n",
        "# We'll learn to handle missing values in a later tutorial.  \n",
        "# Your Iowa data doesn't have missing values in the columns you use. \n",
        "# So we will take the simplest option for now, and drop houses from our data. \n",
        "# Don't worry about this much for now, though the code is:\n",
        "\n",
        "# dropna drops missing values (think of na as \"not available\")\n",
        "melbourne_data = melbourne_data.dropna(axis=0)"
      ],
      "metadata": {
        "id": "3tt6-vXKGd4V"
      },
      "execution_count": 15,
      "outputs": []
    },
    {
      "cell_type": "markdown",
      "source": [
        "**Selecting The Prediction Target**\n",
        "\n",
        "You can pull out a variable with dot-notation. This single column is stored in a Series, which is broadly like a DataFrame with only a single column of data.\n",
        "\n",
        "We'll use the dot notation to select the column we want to predict, which is called the prediction target. By convention, the prediction target is called y. So the code we need to save the house prices in the Melbourne data is"
      ],
      "metadata": {
        "id": "4DKCNFCHGk8s"
      }
    },
    {
      "cell_type": "code",
      "source": [
        "y = melbourne_data.Price"
      ],
      "metadata": {
        "id": "VQgWcChmGw_0"
      },
      "execution_count": 16,
      "outputs": []
    },
    {
      "cell_type": "markdown",
      "source": [
        "**Choosing \"Features\"**\n",
        "\n",
        "The columns that are inputted into our model (and later used to make predictions) are called \"features.\" In our case, those would be the columns used to determine the home price. Sometimes, you will use all columns except the target as features. Other times you'll be better off with fewer features.\n",
        "\n",
        "For now, we'll build a model with only a few features. Later on you'll see how to iterate and compare models built with different features.\n",
        "\n",
        "We select multiple features by providing a list of column names inside brackets. Each item in that list should be a string (with quotes)."
      ],
      "metadata": {
        "id": "4W-feM_mHAt8"
      }
    },
    {
      "cell_type": "code",
      "source": [
        "melbourne_features = ['Rooms', 'Bathroom', 'Landsize', 'Bedroom2', 'YearBuilt']"
      ],
      "metadata": {
        "id": "oFXrKkebHVF0"
      },
      "execution_count": 17,
      "outputs": []
    },
    {
      "cell_type": "markdown",
      "source": [
        "By convention, this data is called X"
      ],
      "metadata": {
        "id": "-ylYesdHHlVq"
      }
    },
    {
      "cell_type": "code",
      "source": [
        "X = melbourne_data[melbourne_features]"
      ],
      "metadata": {
        "id": "ULzNIYlzHnRk"
      },
      "execution_count": 18,
      "outputs": []
    },
    {
      "cell_type": "markdown",
      "source": [
        "reviewing data using the head method"
      ],
      "metadata": {
        "id": "NdEkihEcHprA"
      }
    },
    {
      "cell_type": "code",
      "source": [
        "X.describe()"
      ],
      "metadata": {
        "colab": {
          "base_uri": "https://localhost:8080/",
          "height": 300
        },
        "id": "7Gzau-QaJln3",
        "outputId": "f6b7b81b-f415-40f4-edb6-b4f1edb13761"
      },
      "execution_count": 19,
      "outputs": [
        {
          "output_type": "execute_result",
          "data": {
            "text/html": [
              "\n",
              "  <div id=\"df-1d8f6ae5-74b4-489c-ba0a-4bc09e932103\">\n",
              "    <div class=\"colab-df-container\">\n",
              "      <div>\n",
              "<style scoped>\n",
              "    .dataframe tbody tr th:only-of-type {\n",
              "        vertical-align: middle;\n",
              "    }\n",
              "\n",
              "    .dataframe tbody tr th {\n",
              "        vertical-align: top;\n",
              "    }\n",
              "\n",
              "    .dataframe thead th {\n",
              "        text-align: right;\n",
              "    }\n",
              "</style>\n",
              "<table border=\"1\" class=\"dataframe\">\n",
              "  <thead>\n",
              "    <tr style=\"text-align: right;\">\n",
              "      <th></th>\n",
              "      <th>Rooms</th>\n",
              "      <th>Bathroom</th>\n",
              "      <th>Landsize</th>\n",
              "      <th>Bedroom2</th>\n",
              "      <th>YearBuilt</th>\n",
              "    </tr>\n",
              "  </thead>\n",
              "  <tbody>\n",
              "    <tr>\n",
              "      <th>count</th>\n",
              "      <td>6196.000000</td>\n",
              "      <td>6196.000000</td>\n",
              "      <td>6196.000000</td>\n",
              "      <td>6196.000000</td>\n",
              "      <td>6196.000000</td>\n",
              "    </tr>\n",
              "    <tr>\n",
              "      <th>mean</th>\n",
              "      <td>2.931407</td>\n",
              "      <td>1.576340</td>\n",
              "      <td>471.006940</td>\n",
              "      <td>2.902034</td>\n",
              "      <td>1964.081988</td>\n",
              "    </tr>\n",
              "    <tr>\n",
              "      <th>std</th>\n",
              "      <td>0.971079</td>\n",
              "      <td>0.711362</td>\n",
              "      <td>897.449881</td>\n",
              "      <td>0.970055</td>\n",
              "      <td>38.105673</td>\n",
              "    </tr>\n",
              "    <tr>\n",
              "      <th>min</th>\n",
              "      <td>1.000000</td>\n",
              "      <td>1.000000</td>\n",
              "      <td>0.000000</td>\n",
              "      <td>0.000000</td>\n",
              "      <td>1196.000000</td>\n",
              "    </tr>\n",
              "    <tr>\n",
              "      <th>25%</th>\n",
              "      <td>2.000000</td>\n",
              "      <td>1.000000</td>\n",
              "      <td>152.000000</td>\n",
              "      <td>2.000000</td>\n",
              "      <td>1940.000000</td>\n",
              "    </tr>\n",
              "    <tr>\n",
              "      <th>50%</th>\n",
              "      <td>3.000000</td>\n",
              "      <td>1.000000</td>\n",
              "      <td>373.000000</td>\n",
              "      <td>3.000000</td>\n",
              "      <td>1970.000000</td>\n",
              "    </tr>\n",
              "    <tr>\n",
              "      <th>75%</th>\n",
              "      <td>4.000000</td>\n",
              "      <td>2.000000</td>\n",
              "      <td>628.000000</td>\n",
              "      <td>3.000000</td>\n",
              "      <td>2000.000000</td>\n",
              "    </tr>\n",
              "    <tr>\n",
              "      <th>max</th>\n",
              "      <td>8.000000</td>\n",
              "      <td>8.000000</td>\n",
              "      <td>37000.000000</td>\n",
              "      <td>9.000000</td>\n",
              "      <td>2018.000000</td>\n",
              "    </tr>\n",
              "  </tbody>\n",
              "</table>\n",
              "</div>\n",
              "      <button class=\"colab-df-convert\" onclick=\"convertToInteractive('df-1d8f6ae5-74b4-489c-ba0a-4bc09e932103')\"\n",
              "              title=\"Convert this dataframe to an interactive table.\"\n",
              "              style=\"display:none;\">\n",
              "        \n",
              "  <svg xmlns=\"http://www.w3.org/2000/svg\" height=\"24px\"viewBox=\"0 0 24 24\"\n",
              "       width=\"24px\">\n",
              "    <path d=\"M0 0h24v24H0V0z\" fill=\"none\"/>\n",
              "    <path d=\"M18.56 5.44l.94 2.06.94-2.06 2.06-.94-2.06-.94-.94-2.06-.94 2.06-2.06.94zm-11 1L8.5 8.5l.94-2.06 2.06-.94-2.06-.94L8.5 2.5l-.94 2.06-2.06.94zm10 10l.94 2.06.94-2.06 2.06-.94-2.06-.94-.94-2.06-.94 2.06-2.06.94z\"/><path d=\"M17.41 7.96l-1.37-1.37c-.4-.4-.92-.59-1.43-.59-.52 0-1.04.2-1.43.59L10.3 9.45l-7.72 7.72c-.78.78-.78 2.05 0 2.83L4 21.41c.39.39.9.59 1.41.59.51 0 1.02-.2 1.41-.59l7.78-7.78 2.81-2.81c.8-.78.8-2.07 0-2.86zM5.41 20L4 18.59l7.72-7.72 1.47 1.35L5.41 20z\"/>\n",
              "  </svg>\n",
              "      </button>\n",
              "      \n",
              "  <style>\n",
              "    .colab-df-container {\n",
              "      display:flex;\n",
              "      flex-wrap:wrap;\n",
              "      gap: 12px;\n",
              "    }\n",
              "\n",
              "    .colab-df-convert {\n",
              "      background-color: #E8F0FE;\n",
              "      border: none;\n",
              "      border-radius: 50%;\n",
              "      cursor: pointer;\n",
              "      display: none;\n",
              "      fill: #1967D2;\n",
              "      height: 32px;\n",
              "      padding: 0 0 0 0;\n",
              "      width: 32px;\n",
              "    }\n",
              "\n",
              "    .colab-df-convert:hover {\n",
              "      background-color: #E2EBFA;\n",
              "      box-shadow: 0px 1px 2px rgba(60, 64, 67, 0.3), 0px 1px 3px 1px rgba(60, 64, 67, 0.15);\n",
              "      fill: #174EA6;\n",
              "    }\n",
              "\n",
              "    [theme=dark] .colab-df-convert {\n",
              "      background-color: #3B4455;\n",
              "      fill: #D2E3FC;\n",
              "    }\n",
              "\n",
              "    [theme=dark] .colab-df-convert:hover {\n",
              "      background-color: #434B5C;\n",
              "      box-shadow: 0px 1px 3px 1px rgba(0, 0, 0, 0.15);\n",
              "      filter: drop-shadow(0px 1px 2px rgba(0, 0, 0, 0.3));\n",
              "      fill: #FFFFFF;\n",
              "    }\n",
              "  </style>\n",
              "\n",
              "      <script>\n",
              "        const buttonEl =\n",
              "          document.querySelector('#df-1d8f6ae5-74b4-489c-ba0a-4bc09e932103 button.colab-df-convert');\n",
              "        buttonEl.style.display =\n",
              "          google.colab.kernel.accessAllowed ? 'block' : 'none';\n",
              "\n",
              "        async function convertToInteractive(key) {\n",
              "          const element = document.querySelector('#df-1d8f6ae5-74b4-489c-ba0a-4bc09e932103');\n",
              "          const dataTable =\n",
              "            await google.colab.kernel.invokeFunction('convertToInteractive',\n",
              "                                                     [key], {});\n",
              "          if (!dataTable) return;\n",
              "\n",
              "          const docLinkHtml = 'Like what you see? Visit the ' +\n",
              "            '<a target=\"_blank\" href=https://colab.research.google.com/notebooks/data_table.ipynb>data table notebook</a>'\n",
              "            + ' to learn more about interactive tables.';\n",
              "          element.innerHTML = '';\n",
              "          dataTable['output_type'] = 'display_data';\n",
              "          await google.colab.output.renderOutput(dataTable, element);\n",
              "          const docLink = document.createElement('div');\n",
              "          docLink.innerHTML = docLinkHtml;\n",
              "          element.appendChild(docLink);\n",
              "        }\n",
              "      </script>\n",
              "    </div>\n",
              "  </div>\n",
              "  "
            ],
            "text/plain": [
              "             Rooms     Bathroom      Landsize     Bedroom2    YearBuilt\n",
              "count  6196.000000  6196.000000   6196.000000  6196.000000  6196.000000\n",
              "mean      2.931407     1.576340    471.006940     2.902034  1964.081988\n",
              "std       0.971079     0.711362    897.449881     0.970055    38.105673\n",
              "min       1.000000     1.000000      0.000000     0.000000  1196.000000\n",
              "25%       2.000000     1.000000    152.000000     2.000000  1940.000000\n",
              "50%       3.000000     1.000000    373.000000     3.000000  1970.000000\n",
              "75%       4.000000     2.000000    628.000000     3.000000  2000.000000\n",
              "max       8.000000     8.000000  37000.000000     9.000000  2018.000000"
            ]
          },
          "metadata": {},
          "execution_count": 19
        }
      ]
    },
    {
      "cell_type": "code",
      "source": [
        "X.head()"
      ],
      "metadata": {
        "colab": {
          "base_uri": "https://localhost:8080/",
          "height": 206
        },
        "id": "Qlv-LNFkJlss",
        "outputId": "33417084-ace3-4576-c242-c9b142d69441"
      },
      "execution_count": 20,
      "outputs": [
        {
          "output_type": "execute_result",
          "data": {
            "text/html": [
              "\n",
              "  <div id=\"df-aa489a2f-fd96-4d61-a525-badf3af73644\">\n",
              "    <div class=\"colab-df-container\">\n",
              "      <div>\n",
              "<style scoped>\n",
              "    .dataframe tbody tr th:only-of-type {\n",
              "        vertical-align: middle;\n",
              "    }\n",
              "\n",
              "    .dataframe tbody tr th {\n",
              "        vertical-align: top;\n",
              "    }\n",
              "\n",
              "    .dataframe thead th {\n",
              "        text-align: right;\n",
              "    }\n",
              "</style>\n",
              "<table border=\"1\" class=\"dataframe\">\n",
              "  <thead>\n",
              "    <tr style=\"text-align: right;\">\n",
              "      <th></th>\n",
              "      <th>Rooms</th>\n",
              "      <th>Bathroom</th>\n",
              "      <th>Landsize</th>\n",
              "      <th>Bedroom2</th>\n",
              "      <th>YearBuilt</th>\n",
              "    </tr>\n",
              "  </thead>\n",
              "  <tbody>\n",
              "    <tr>\n",
              "      <th>1</th>\n",
              "      <td>2</td>\n",
              "      <td>1</td>\n",
              "      <td>156</td>\n",
              "      <td>2</td>\n",
              "      <td>1900.0</td>\n",
              "    </tr>\n",
              "    <tr>\n",
              "      <th>2</th>\n",
              "      <td>3</td>\n",
              "      <td>2</td>\n",
              "      <td>134</td>\n",
              "      <td>3</td>\n",
              "      <td>1900.0</td>\n",
              "    </tr>\n",
              "    <tr>\n",
              "      <th>4</th>\n",
              "      <td>4</td>\n",
              "      <td>1</td>\n",
              "      <td>120</td>\n",
              "      <td>3</td>\n",
              "      <td>2014.0</td>\n",
              "    </tr>\n",
              "    <tr>\n",
              "      <th>6</th>\n",
              "      <td>3</td>\n",
              "      <td>2</td>\n",
              "      <td>245</td>\n",
              "      <td>4</td>\n",
              "      <td>1910.0</td>\n",
              "    </tr>\n",
              "    <tr>\n",
              "      <th>7</th>\n",
              "      <td>2</td>\n",
              "      <td>1</td>\n",
              "      <td>256</td>\n",
              "      <td>2</td>\n",
              "      <td>1890.0</td>\n",
              "    </tr>\n",
              "  </tbody>\n",
              "</table>\n",
              "</div>\n",
              "      <button class=\"colab-df-convert\" onclick=\"convertToInteractive('df-aa489a2f-fd96-4d61-a525-badf3af73644')\"\n",
              "              title=\"Convert this dataframe to an interactive table.\"\n",
              "              style=\"display:none;\">\n",
              "        \n",
              "  <svg xmlns=\"http://www.w3.org/2000/svg\" height=\"24px\"viewBox=\"0 0 24 24\"\n",
              "       width=\"24px\">\n",
              "    <path d=\"M0 0h24v24H0V0z\" fill=\"none\"/>\n",
              "    <path d=\"M18.56 5.44l.94 2.06.94-2.06 2.06-.94-2.06-.94-.94-2.06-.94 2.06-2.06.94zm-11 1L8.5 8.5l.94-2.06 2.06-.94-2.06-.94L8.5 2.5l-.94 2.06-2.06.94zm10 10l.94 2.06.94-2.06 2.06-.94-2.06-.94-.94-2.06-.94 2.06-2.06.94z\"/><path d=\"M17.41 7.96l-1.37-1.37c-.4-.4-.92-.59-1.43-.59-.52 0-1.04.2-1.43.59L10.3 9.45l-7.72 7.72c-.78.78-.78 2.05 0 2.83L4 21.41c.39.39.9.59 1.41.59.51 0 1.02-.2 1.41-.59l7.78-7.78 2.81-2.81c.8-.78.8-2.07 0-2.86zM5.41 20L4 18.59l7.72-7.72 1.47 1.35L5.41 20z\"/>\n",
              "  </svg>\n",
              "      </button>\n",
              "      \n",
              "  <style>\n",
              "    .colab-df-container {\n",
              "      display:flex;\n",
              "      flex-wrap:wrap;\n",
              "      gap: 12px;\n",
              "    }\n",
              "\n",
              "    .colab-df-convert {\n",
              "      background-color: #E8F0FE;\n",
              "      border: none;\n",
              "      border-radius: 50%;\n",
              "      cursor: pointer;\n",
              "      display: none;\n",
              "      fill: #1967D2;\n",
              "      height: 32px;\n",
              "      padding: 0 0 0 0;\n",
              "      width: 32px;\n",
              "    }\n",
              "\n",
              "    .colab-df-convert:hover {\n",
              "      background-color: #E2EBFA;\n",
              "      box-shadow: 0px 1px 2px rgba(60, 64, 67, 0.3), 0px 1px 3px 1px rgba(60, 64, 67, 0.15);\n",
              "      fill: #174EA6;\n",
              "    }\n",
              "\n",
              "    [theme=dark] .colab-df-convert {\n",
              "      background-color: #3B4455;\n",
              "      fill: #D2E3FC;\n",
              "    }\n",
              "\n",
              "    [theme=dark] .colab-df-convert:hover {\n",
              "      background-color: #434B5C;\n",
              "      box-shadow: 0px 1px 3px 1px rgba(0, 0, 0, 0.15);\n",
              "      filter: drop-shadow(0px 1px 2px rgba(0, 0, 0, 0.3));\n",
              "      fill: #FFFFFF;\n",
              "    }\n",
              "  </style>\n",
              "\n",
              "      <script>\n",
              "        const buttonEl =\n",
              "          document.querySelector('#df-aa489a2f-fd96-4d61-a525-badf3af73644 button.colab-df-convert');\n",
              "        buttonEl.style.display =\n",
              "          google.colab.kernel.accessAllowed ? 'block' : 'none';\n",
              "\n",
              "        async function convertToInteractive(key) {\n",
              "          const element = document.querySelector('#df-aa489a2f-fd96-4d61-a525-badf3af73644');\n",
              "          const dataTable =\n",
              "            await google.colab.kernel.invokeFunction('convertToInteractive',\n",
              "                                                     [key], {});\n",
              "          if (!dataTable) return;\n",
              "\n",
              "          const docLinkHtml = 'Like what you see? Visit the ' +\n",
              "            '<a target=\"_blank\" href=https://colab.research.google.com/notebooks/data_table.ipynb>data table notebook</a>'\n",
              "            + ' to learn more about interactive tables.';\n",
              "          element.innerHTML = '';\n",
              "          dataTable['output_type'] = 'display_data';\n",
              "          await google.colab.output.renderOutput(dataTable, element);\n",
              "          const docLink = document.createElement('div');\n",
              "          docLink.innerHTML = docLinkHtml;\n",
              "          element.appendChild(docLink);\n",
              "        }\n",
              "      </script>\n",
              "    </div>\n",
              "  </div>\n",
              "  "
            ],
            "text/plain": [
              "   Rooms  Bathroom  Landsize  Bedroom2  YearBuilt\n",
              "1      2         1       156         2     1900.0\n",
              "2      3         2       134         3     1900.0\n",
              "4      4         1       120         3     2014.0\n",
              "6      3         2       245         4     1910.0\n",
              "7      2         1       256         2     1890.0"
            ]
          },
          "metadata": {},
          "execution_count": 20
        }
      ]
    },
    {
      "cell_type": "markdown",
      "source": [
        "**Building Your Model**\n",
        "You will use the scikit-learn library to create your models. When coding, this library is written as sklearn, as you will see in the sample code. Scikit-learn is easily the most popular library for modeling the types of data typically stored in DataFrames.\n",
        "\n",
        "The steps to building and using a model are:\n",
        "\n",
        "Define: What type of model will it be? A decision tree? Some other type of model? Some other parameters of the model type are specified too.\n",
        "Fit: Capture patterns from provided data. This is the heart of modeling.\n",
        "Predict: Just what it sounds like\n",
        "Evaluate: Determine how accurate the model's predictions are.\n",
        "Here is an example of defining a decision tree model with scikit-learn and fitting it with the features and target variable.\n"
      ],
      "metadata": {
        "id": "_o1QRaMTKBJV"
      }
    },
    {
      "cell_type": "code",
      "source": [
        "from sklearn.tree import DecisionTreeRegressor\n",
        "\n",
        "# Define model. Specify a number for random_state to ensure same results each run\n",
        "melbourne_model = DecisionTreeRegressor(random_state=1)\n",
        "\n",
        "# Fit model\n",
        "melbourne_model.fit(X, y)"
      ],
      "metadata": {
        "colab": {
          "base_uri": "https://localhost:8080/"
        },
        "id": "Yh5B6RvWKP_M",
        "outputId": "571cb56a-519b-465a-f342-fed3d71a9655"
      },
      "execution_count": 21,
      "outputs": [
        {
          "output_type": "execute_result",
          "data": {
            "text/plain": [
              "DecisionTreeRegressor(random_state=1)"
            ]
          },
          "metadata": {},
          "execution_count": 21
        }
      ]
    },
    {
      "cell_type": "markdown",
      "source": [
        "Many machine learning models allow some randomness in model training. Specifying a number for random_state ensures you get the same results in each run. This is considered a good practice. You use any number, and model quality won't depend meaningfully on exactly what value you choose.\n",
        "\n",
        "We now have a fitted model that we can use to make predictions."
      ],
      "metadata": {
        "id": "twH3id5TKWi8"
      }
    },
    {
      "cell_type": "code",
      "source": [
        "print(\"Making predictions for the following 5 houses:\")\n",
        "print(X.head())\n",
        "print(\"The predictions are\")\n",
        "print(melbourne_model.predict(X.head()))"
      ],
      "metadata": {
        "colab": {
          "base_uri": "https://localhost:8080/"
        },
        "id": "29oniDb5KbI-",
        "outputId": "aeb34771-041c-428a-a641-158fe5e3c7ca"
      },
      "execution_count": 22,
      "outputs": [
        {
          "output_type": "stream",
          "name": "stdout",
          "text": [
            "Making predictions for the following 5 houses:\n",
            "   Rooms  Bathroom  Landsize  Bedroom2  YearBuilt\n",
            "1      2         1       156         2     1900.0\n",
            "2      3         2       134         3     1900.0\n",
            "4      4         1       120         3     2014.0\n",
            "6      3         2       245         4     1910.0\n",
            "7      2         1       256         2     1890.0\n",
            "The predictions are\n",
            "[1092500. 1465000. 1600000. 1876000. 1636000.]\n"
          ]
        }
      ]
    }
  ]
}